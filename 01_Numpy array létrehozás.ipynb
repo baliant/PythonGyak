{
 "cells": [
  {
   "cell_type": "markdown",
   "id": "472c97f0",
   "metadata": {},
   "source": [
    "Numpy-on kívül is van lehetőség fix típusú tömb létrehozására."
   ]
  },
  {
   "cell_type": "code",
   "execution_count": 6,
   "id": "32963333",
   "metadata": {},
   "outputs": [
    {
     "data": {
      "text/plain": [
       "array('i', [0, 1, 2, 3, 4, 5, 6, 7, 8, 9])"
      ]
     },
     "execution_count": 6,
     "metadata": {},
     "output_type": "execute_result"
    }
   ],
   "source": [
    "import array\n",
    "L = list(range(10))\n",
    "A = array.array('i', L) # az 'i' az array típusára utal, itt integer\n",
    "A"
   ]
  },
  {
   "cell_type": "code",
   "execution_count": 7,
   "id": "e838c4a9",
   "metadata": {},
   "outputs": [],
   "source": [
    "import numpy as np"
   ]
  },
  {
   "cell_type": "markdown",
   "id": "dfc1ae74",
   "metadata": {},
   "source": [
    "## Lehetőségek tömbök létrehozására\n",
    "1. listából\n",
    "1. teljes 0\n",
    "1. teljes 1\n",
    "1. ugyanazzal az értékkel\n",
    "1. lineáris szekvencia\n",
    "1. random értékek\n"
   ]
  },
  {
   "cell_type": "markdown",
   "id": "31ff25d4",
   "metadata": {},
   "source": [
    "### 1. Listából"
   ]
  },
  {
   "cell_type": "code",
   "execution_count": 10,
   "id": "ae13b855",
   "metadata": {},
   "outputs": [
    {
     "data": {
      "text/plain": [
       "[numpy.int32, numpy.int32, numpy.int32, numpy.int32]"
      ]
     },
     "execution_count": 10,
     "metadata": {},
     "output_type": "execute_result"
    }
   ],
   "source": [
    "K = np.array([1, 5, 6, 2])\n",
    "[type(item) for item in K]"
   ]
  },
  {
   "cell_type": "code",
   "execution_count": 11,
   "id": "e86df4b3",
   "metadata": {},
   "outputs": [
    {
     "data": {
      "text/plain": [
       "[numpy.float64, numpy.float64, numpy.float64]"
      ]
     },
     "execution_count": 11,
     "metadata": {},
     "output_type": "execute_result"
    }
   ],
   "source": [
    "# összes elemet \"felfelé\" húzza, ha van közte pl. egy float is\n",
    "L = np.array([3.14, 5, 6])\n",
    "[type(item) for item in L]"
   ]
  },
  {
   "cell_type": "code",
   "execution_count": 14,
   "id": "4d58433e",
   "metadata": {},
   "outputs": [
    {
     "data": {
      "text/plain": [
       "array([1., 2., 3., 4.], dtype=float32)"
      ]
     },
     "execution_count": 14,
     "metadata": {},
     "output_type": "execute_result"
    }
   ],
   "source": [
    "# specifikálás, hogy milyen adattípus legyen\n",
    "np.array([1, 2, 3, 4], dtype = 'float32')"
   ]
  },
  {
   "cell_type": "code",
   "execution_count": 24,
   "id": "0e8637f4",
   "metadata": {},
   "outputs": [
    {
     "data": {
      "text/plain": [
       "array([[ 1,  2,  3,  4,  5,  6,  7,  8,  9, 10],\n",
       "       [ 5,  6,  7,  8,  9, 10, 11, 12, 13, 14],\n",
       "       [10, 11, 12, 13, 14, 15, 16, 17, 18, 19],\n",
       "       [15, 16, 17, 18, 19, 20, 21, 22, 23, 24]])"
      ]
     },
     "execution_count": 24,
     "metadata": {},
     "output_type": "execute_result"
    }
   ],
   "source": [
    "# többdimenziós lista\n",
    "# Return an object that produces a sequence of integers from start (inclusive)\n",
    "# to stop (exclusive) by step.  range(i, j) produces i, i+1, i+2, ..., j-1.\n",
    "# start defaults to 0, and stop is omitted!  range(4) produces 0, 1, 2, 3.\n",
    "# These are exactly the valid indices for a list of 4 elements.\n",
    "# When step is given, it specifies the increment (or decrement).\n",
    "np.array([range(i, i + 10) for i in [1, 5, 10, 15]])"
   ]
  },
  {
   "cell_type": "markdown",
   "id": "b811a621",
   "metadata": {},
   "source": [
    "### 2. Teljes 0"
   ]
  },
  {
   "cell_type": "code",
   "execution_count": 36,
   "id": "25e5dca1",
   "metadata": {},
   "outputs": [
    {
     "data": {
      "text/plain": [
       "array([[0, 0, 0, 0, 0],\n",
       "       [0, 0, 0, 0, 0],\n",
       "       [0, 0, 0, 0, 0]])"
      ]
     },
     "execution_count": 36,
     "metadata": {},
     "output_type": "execute_result"
    }
   ],
   "source": [
    "np.zeros((3, 5), int)"
   ]
  },
  {
   "cell_type": "markdown",
   "id": "3459eebc",
   "metadata": {},
   "source": [
    "### 3. Teljes 1"
   ]
  },
  {
   "cell_type": "code",
   "execution_count": 40,
   "id": "11172ff1",
   "metadata": {},
   "outputs": [
    {
     "data": {
      "text/plain": [
       "array([[1., 1., 1.],\n",
       "       [1., 1., 1.]], dtype=float32)"
      ]
     },
     "execution_count": 40,
     "metadata": {},
     "output_type": "execute_result"
    }
   ],
   "source": [
    "np.ones((2,3), dtype = 'float32')"
   ]
  },
  {
   "cell_type": "markdown",
   "id": "21619c25",
   "metadata": {},
   "source": [
    "### 4. Ugyanazzal az értékkel"
   ]
  },
  {
   "cell_type": "code",
   "execution_count": 42,
   "id": "0962e0ce",
   "metadata": {},
   "outputs": [
    {
     "data": {
      "text/plain": [
       "array([[3.14, 3.14, 3.14, 3.14, 3.14],\n",
       "       [3.14, 3.14, 3.14, 3.14, 3.14],\n",
       "       [3.14, 3.14, 3.14, 3.14, 3.14]])"
      ]
     },
     "execution_count": 42,
     "metadata": {},
     "output_type": "execute_result"
    }
   ],
   "source": [
    "np.full((3, 5), 3.14)"
   ]
  },
  {
   "cell_type": "markdown",
   "id": "13341a7c",
   "metadata": {},
   "source": [
    "### 5. Lineáris szekvencia"
   ]
  },
  {
   "cell_type": "code",
   "execution_count": 58,
   "id": "4aa74f4b",
   "metadata": {},
   "outputs": [
    {
     "data": {
      "text/plain": [
       "array([ 1,  3,  5,  7,  9, 11, 13, 15, 17, 19])"
      ]
     },
     "execution_count": 58,
     "metadata": {},
     "output_type": "execute_result"
    }
   ],
   "source": [
    "# fixált lépésköz\n",
    "L = np.arange(1, 20, 2)\n",
    "L"
   ]
  },
  {
   "cell_type": "code",
   "execution_count": 59,
   "id": "2004392e",
   "metadata": {},
   "outputs": [
    {
     "data": {
      "text/plain": [
       "10"
      ]
     },
     "execution_count": 59,
     "metadata": {},
     "output_type": "execute_result"
    }
   ],
   "source": [
    "np.size(L)"
   ]
  },
  {
   "cell_type": "code",
   "execution_count": 68,
   "id": "5d319c86",
   "metadata": {},
   "outputs": [
    {
     "data": {
      "text/plain": [
       "array([1., 3., 5.])"
      ]
     },
     "execution_count": 68,
     "metadata": {},
     "output_type": "execute_result"
    }
   ],
   "source": [
    "# fixált tartomány, hány részre\n",
    "# benne van az eleje és a vége is!\n",
    "np.linspace(1, 5, 3)"
   ]
  },
  {
   "cell_type": "markdown",
   "id": "4664607c",
   "metadata": {},
   "source": [
    "### 6. Random"
   ]
  },
  {
   "cell_type": "code",
   "execution_count": 71,
   "id": "dff3cff2",
   "metadata": {},
   "outputs": [
    {
     "data": {
      "text/plain": [
       "array([[0.94955286, 0.89888076, 0.72551427],\n",
       "       [0.23530762, 0.81325586, 0.81304985],\n",
       "       [0.75097319, 0.71181495, 0.74558527]])"
      ]
     },
     "execution_count": 71,
     "metadata": {},
     "output_type": "execute_result"
    }
   ],
   "source": [
    "np.random.random((3, 3))"
   ]
  },
  {
   "cell_type": "code",
   "execution_count": 75,
   "id": "9528b450",
   "metadata": {},
   "outputs": [
    {
     "data": {
      "text/plain": [
       "array([[ 0.36476998,  0.70086663,  1.27309004],\n",
       "       [-0.48346013,  0.56254073, -0.23390739],\n",
       "       [-1.15549549,  0.09027314,  0.5330942 ]])"
      ]
     },
     "execution_count": 75,
     "metadata": {},
     "output_type": "execute_result"
    }
   ],
   "source": [
    "# random normál eloszlás\n",
    "# 0 medián, 1 standard deviáció\n",
    "np.random.normal(0, 1, (3, 3))"
   ]
  },
  {
   "cell_type": "code",
   "execution_count": 76,
   "id": "2fc553ce",
   "metadata": {},
   "outputs": [
    {
     "data": {
      "text/plain": [
       "array([[1, 9, 8],\n",
       "       [1, 0, 6],\n",
       "       [3, 5, 4]])"
      ]
     },
     "execution_count": 76,
     "metadata": {},
     "output_type": "execute_result"
    }
   ],
   "source": [
    "# 0 és 10 közé random számok, ugyanúgy 3x3 mátrixban\n",
    "np.random.randint(0, 10, (3, 3))"
   ]
  },
  {
   "cell_type": "code",
   "execution_count": 87,
   "id": "879823c5",
   "metadata": {},
   "outputs": [
    {
     "data": {
      "text/plain": [
       "array([[7, 9, 8, 6, 4],\n",
       "       [1, 1, 1, 1, 1]])"
      ]
     },
     "execution_count": 87,
     "metadata": {},
     "output_type": "execute_result"
    }
   ],
   "source": [
    "# most legyen az a feladat, hogy az első sor random, a második sor viszont csupa 1-es\n",
    "L = np.random.randint(0, 10, (1, 5))\n",
    "M = np.ones((1, 5), dtype = 'int')\n",
    "np.concatenate((L, M))"
   ]
  },
  {
   "cell_type": "code",
   "execution_count": 92,
   "id": "5f4860de",
   "metadata": {},
   "outputs": [
    {
     "data": {
      "text/plain": [
       "array([[1, 0, 0],\n",
       "       [0, 1, 0],\n",
       "       [0, 0, 1]])"
      ]
     },
     "execution_count": 92,
     "metadata": {},
     "output_type": "execute_result"
    }
   ],
   "source": [
    "# egységmátrix\n",
    "np.eye(3,3, dtype = 'int')"
   ]
  },
  {
   "cell_type": "code",
   "execution_count": 102,
   "id": "b1316bc8",
   "metadata": {},
   "outputs": [
    {
     "data": {
      "text/plain": [
       "array([ 2.5,  5. ,  7.5, 10. , 12.5, 15. , 17.5, 20. ])"
      ]
     },
     "execution_count": 102,
     "metadata": {},
     "output_type": "execute_result"
    }
   ],
   "source": [
    "# nem inicializált, memóriából éppen ami van\n",
    "# ezt még nem teljesen értem, erre még vissza kell térni\n",
    "np.empty(8)"
   ]
  }
 ],
 "metadata": {
  "kernelspec": {
   "display_name": "Python 3 (ipykernel)",
   "language": "python",
   "name": "python3"
  },
  "language_info": {
   "codemirror_mode": {
    "name": "ipython",
    "version": 3
   },
   "file_extension": ".py",
   "mimetype": "text/x-python",
   "name": "python",
   "nbconvert_exporter": "python",
   "pygments_lexer": "ipython3",
   "version": "3.11.3"
  }
 },
 "nbformat": 4,
 "nbformat_minor": 5
}
