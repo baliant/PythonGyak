{
 "cells": [
  {
   "cell_type": "markdown",
   "id": "0a0ee372",
   "metadata": {},
   "source": [
    "# Billentyűkombinációk\n",
    "\n",
    "* a    - cella beszúrása felülre\n",
    "* b    - cella beszúrása alulra\n",
    "* dd   - cella törlése\n",
    "* esc  - cella inaktiválása\n",
    "* ctrl + ENTER    - cella végrehajtása\n",
    "* shift + ENTER   - cella végrehajtása és következő cella kiválasztása\n",
    "\n"
   ]
  },
  {
   "cell_type": "markdown",
   "id": "dd1f251b",
   "metadata": {},
   "source": [
    "# Alapműveletek"
   ]
  },
  {
   "cell_type": "code",
   "execution_count": 3,
   "id": "9a555afc",
   "metadata": {},
   "outputs": [
    {
     "data": {
      "text/plain": [
       "7"
      ]
     },
     "execution_count": 3,
     "metadata": {},
     "output_type": "execute_result"
    }
   ],
   "source": [
    "4 + 3"
   ]
  },
  {
   "cell_type": "code",
   "execution_count": 4,
   "id": "bed8796f",
   "metadata": {},
   "outputs": [
    {
     "data": {
      "text/plain": [
       "0.8333333333333334"
      ]
     },
     "execution_count": 4,
     "metadata": {},
     "output_type": "execute_result"
    }
   ],
   "source": [
    "5/6"
   ]
  },
  {
   "cell_type": "code",
   "execution_count": 9,
   "id": "ac10e5b9",
   "metadata": {},
   "outputs": [
    {
     "data": {
      "text/plain": [
       "4"
      ]
     },
     "execution_count": 9,
     "metadata": {},
     "output_type": "execute_result"
    }
   ],
   "source": [
    "# Egész osztás: \n",
    "14//3"
   ]
  },
  {
   "cell_type": "code",
   "execution_count": 10,
   "id": "08d9c62f",
   "metadata": {},
   "outputs": [
    {
     "data": {
      "text/plain": [
       "2"
      ]
     },
     "execution_count": 10,
     "metadata": {},
     "output_type": "execute_result"
    }
   ],
   "source": [
    "# és a maradék:\n",
    "14%3"
   ]
  },
  {
   "cell_type": "markdown",
   "id": "f6398fad",
   "metadata": {},
   "source": [
    "# Változók"
   ]
  },
  {
   "cell_type": "code",
   "execution_count": 11,
   "id": "8064f8fa",
   "metadata": {},
   "outputs": [
    {
     "name": "stdout",
     "output_type": "stream",
     "text": [
      "3\n"
     ]
    }
   ],
   "source": [
    "x = 3\n",
    "print(x)"
   ]
  },
  {
   "cell_type": "code",
   "execution_count": 18,
   "id": "2d836e8b",
   "metadata": {},
   "outputs": [],
   "source": [
    "kor = 36.52211157555"
   ]
  },
  {
   "cell_type": "code",
   "execution_count": 19,
   "id": "d288003c",
   "metadata": {},
   "outputs": [],
   "source": [
    "mondat = 'Én {} éves vagyok.'.format(kor) #{} behelyettesítés"
   ]
  },
  {
   "cell_type": "code",
   "execution_count": 20,
   "id": "1a6297fd",
   "metadata": {},
   "outputs": [
    {
     "name": "stdout",
     "output_type": "stream",
     "text": [
      "Én 36.52211157555 éves vagyok.\n"
     ]
    }
   ],
   "source": [
    "print(mondat)"
   ]
  },
  {
   "cell_type": "code",
   "execution_count": 22,
   "id": "62745fcc",
   "metadata": {},
   "outputs": [
    {
     "name": "stdout",
     "output_type": "stream",
     "text": [
      "Én 36.52 éves vagyok.\n"
     ]
    }
   ],
   "source": [
    "mondat = 'Én {:.2f} éves vagyok.'.format(kor)\n",
    "print(mondat)"
   ]
  },
  {
   "cell_type": "markdown",
   "id": "bf779a85",
   "metadata": {},
   "source": [
    "# Listák"
   ]
  },
  {
   "cell_type": "code",
   "execution_count": null,
   "id": "45dcddab",
   "metadata": {},
   "outputs": [],
   "source": []
  }
 ],
 "metadata": {
  "kernelspec": {
   "display_name": "Python 3 (ipykernel)",
   "language": "python",
   "name": "python3"
  },
  "language_info": {
   "codemirror_mode": {
    "name": "ipython",
    "version": 3
   },
   "file_extension": ".py",
   "mimetype": "text/x-python",
   "name": "python",
   "nbconvert_exporter": "python",
   "pygments_lexer": "ipython3",
   "version": "3.11.3"
  }
 },
 "nbformat": 4,
 "nbformat_minor": 5
}
