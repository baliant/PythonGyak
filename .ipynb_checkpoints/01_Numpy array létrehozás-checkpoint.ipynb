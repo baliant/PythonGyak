{
 "cells": [
  {
   "cell_type": "markdown",
   "id": "f2eb2d15",
   "metadata": {},
   "source": [
    "Numpy-on kívül is van lehetőség fix típusú tömb létrehozására."
   ]
  },
  {
   "cell_type": "code",
   "execution_count": 6,
   "id": "ff6ee86b",
   "metadata": {},
   "outputs": [
    {
     "data": {
      "text/plain": [
       "array('i', [0, 1, 2, 3, 4, 5, 6, 7, 8, 9])"
      ]
     },
     "execution_count": 6,
     "metadata": {},
     "output_type": "execute_result"
    }
   ],
   "source": [
    "import array\n",
    "L = list(range(10))\n",
    "A = array.array('i', L) # az 'i' az array típusára utal, itt integer\n",
    "A"
   ]
  },
  {
   "cell_type": "code",
   "execution_count": 7,
   "id": "b7075883",
   "metadata": {},
   "outputs": [],
   "source": [
    "import numpy as np"
   ]
  },
  {
   "cell_type": "markdown",
   "id": "b30af18a",
   "metadata": {},
   "source": [
    "## Lehetőségek tömbök létrehozására\n",
    "1. listából\n",
    "1. teljes 0\n",
    "1. teljes 1\n",
    "1. ugyanazzal az értékkel\n",
    "1. lineáris szekvencia\n",
    "1. random értékek\n",
    "1. mátrix"
   ]
  },
  {
   "cell_type": "markdown",
   "id": "f0484377",
   "metadata": {},
   "source": [
    "### 1. Listából"
   ]
  },
  {
   "cell_type": "code",
   "execution_count": 10,
   "id": "f8d753d5",
   "metadata": {},
   "outputs": [
    {
     "data": {
      "text/plain": [
       "[numpy.int32, numpy.int32, numpy.int32, numpy.int32]"
      ]
     },
     "execution_count": 10,
     "metadata": {},
     "output_type": "execute_result"
    }
   ],
   "source": [
    "K = np.array([1, 5, 6, 2])\n",
    "[type(item) for item in K]"
   ]
  },
  {
   "cell_type": "code",
   "execution_count": 11,
   "id": "c1b9a38d",
   "metadata": {},
   "outputs": [
    {
     "data": {
      "text/plain": [
       "[numpy.float64, numpy.float64, numpy.float64]"
      ]
     },
     "execution_count": 11,
     "metadata": {},
     "output_type": "execute_result"
    }
   ],
   "source": [
    "# összes elemet \"felfelé\" húzza, ha van közte pl. egy float is\n",
    "L = np.array([3.14, 5, 6])\n",
    "[type(item) for item in L]"
   ]
  },
  {
   "cell_type": "code",
   "execution_count": 14,
   "id": "a2ef0c9f",
   "metadata": {},
   "outputs": [
    {
     "data": {
      "text/plain": [
       "array([1., 2., 3., 4.], dtype=float32)"
      ]
     },
     "execution_count": 14,
     "metadata": {},
     "output_type": "execute_result"
    }
   ],
   "source": [
    "# specifikálás, hogy milyen adattípus legyen\n",
    "np.array([1, 2, 3, 4], dtype = 'float32')"
   ]
  },
  {
   "cell_type": "code",
   "execution_count": 24,
   "id": "840da530",
   "metadata": {},
   "outputs": [
    {
     "data": {
      "text/plain": [
       "array([[ 1,  2,  3,  4,  5,  6,  7,  8,  9, 10],\n",
       "       [ 5,  6,  7,  8,  9, 10, 11, 12, 13, 14],\n",
       "       [10, 11, 12, 13, 14, 15, 16, 17, 18, 19],\n",
       "       [15, 16, 17, 18, 19, 20, 21, 22, 23, 24]])"
      ]
     },
     "execution_count": 24,
     "metadata": {},
     "output_type": "execute_result"
    }
   ],
   "source": [
    "# többdimenziós lista\n",
    "# Return an object that produces a sequence of integers from start (inclusive)\n",
    "# to stop (exclusive) by step.  range(i, j) produces i, i+1, i+2, ..., j-1.\n",
    "# start defaults to 0, and stop is omitted!  range(4) produces 0, 1, 2, 3.\n",
    "# These are exactly the valid indices for a list of 4 elements.\n",
    "# When step is given, it specifies the increment (or decrement).\n",
    "np.array([range(i, i + 10) for i in [1, 5, 10, 15]])"
   ]
  }
 ],
 "metadata": {
  "kernelspec": {
   "display_name": "Python 3 (ipykernel)",
   "language": "python",
   "name": "python3"
  },
  "language_info": {
   "codemirror_mode": {
    "name": "ipython",
    "version": 3
   },
   "file_extension": ".py",
   "mimetype": "text/x-python",
   "name": "python",
   "nbconvert_exporter": "python",
   "pygments_lexer": "ipython3",
   "version": "3.11.3"
  }
 },
 "nbformat": 4,
 "nbformat_minor": 5
}
